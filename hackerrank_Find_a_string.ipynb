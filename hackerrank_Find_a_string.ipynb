{
  "nbformat": 4,
  "nbformat_minor": 0,
  "metadata": {
    "colab": {
      "name": "hackerrank - Find a string",
      "provenance": [],
      "authorship_tag": "ABX9TyOtct7tu6oPFmaVhaGMZv2R",
      "include_colab_link": true
    },
    "kernelspec": {
      "name": "python3",
      "display_name": "Python 3"
    }
  },
  "cells": [
    {
      "cell_type": "markdown",
      "metadata": {
        "id": "view-in-github",
        "colab_type": "text"
      },
      "source": [
        "<a href=\"https://colab.research.google.com/github/gilbertduenas/hackerrank---Find-a-string/blob/master/hackerrank_Find_a_string.ipynb\" target=\"_parent\"><img src=\"https://colab.research.google.com/assets/colab-badge.svg\" alt=\"Open In Colab\"/></a>"
      ]
    },
    {
      "cell_type": "code",
      "metadata": {
        "id": "zHm0o4bBmF_0",
        "colab_type": "code",
        "colab": {}
      },
      "source": [
        "s = 'ABCDCDC'\n",
        "sb = 'CDC'\n",
        "\n",
        "def count_substring(string, sub_string):\n",
        "    count = 0\n",
        "\n",
        "    for i in range(len(string)):\n",
        "        if sub_string == string[i:i+len(sub_string)]:\n",
        "            count += 1\n",
        "\n",
        "    return count"
      ],
      "execution_count": 11,
      "outputs": []
    },
    {
      "cell_type": "code",
      "metadata": {
        "id": "gqmdJxXdmUKh",
        "colab_type": "code",
        "colab": {
          "base_uri": "https://localhost:8080/",
          "height": 35
        },
        "outputId": "0f5ffb87-3162-4d2e-f458-bfc3a4c17c99"
      },
      "source": [
        "count_substring(s, sb)"
      ],
      "execution_count": 12,
      "outputs": [
        {
          "output_type": "execute_result",
          "data": {
            "text/plain": [
              "2"
            ]
          },
          "metadata": {
            "tags": []
          },
          "execution_count": 12
        }
      ]
    },
    {
      "cell_type": "code",
      "metadata": {
        "id": "GsRZ5zF1mXkn",
        "colab_type": "code",
        "colab": {
          "base_uri": "https://localhost:8080/",
          "height": 141
        },
        "outputId": "9e03a9be-d226-4b10-dc97-3cb92d4f7af8"
      },
      "source": [
        "for i in s:\n",
        "  print(s)"
      ],
      "execution_count": 13,
      "outputs": [
        {
          "output_type": "stream",
          "text": [
            "ABCDCDC\n",
            "ABCDCDC\n",
            "ABCDCDC\n",
            "ABCDCDC\n",
            "ABCDCDC\n",
            "ABCDCDC\n",
            "ABCDCDC\n"
          ],
          "name": "stdout"
        }
      ]
    },
    {
      "cell_type": "code",
      "metadata": {
        "id": "M8ifP_QFmdP8",
        "colab_type": "code",
        "colab": {
          "base_uri": "https://localhost:8080/",
          "height": 36
        },
        "outputId": "082a0954-d422-4457-9f91-55ce8388e509"
      },
      "source": [
        "s[0:3+1]"
      ],
      "execution_count": 10,
      "outputs": [
        {
          "output_type": "execute_result",
          "data": {
            "application/vnd.google.colaboratory.intrinsic+json": {
              "type": "string"
            },
            "text/plain": [
              "'ABCD'"
            ]
          },
          "metadata": {
            "tags": []
          },
          "execution_count": 10
        }
      ]
    },
    {
      "cell_type": "code",
      "metadata": {
        "id": "t1nBQJzgmm5a",
        "colab_type": "code",
        "colab": {}
      },
      "source": [
        ""
      ],
      "execution_count": null,
      "outputs": []
    }
  ]
}